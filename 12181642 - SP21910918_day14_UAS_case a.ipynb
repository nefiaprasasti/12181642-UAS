{
 "cells": [
  {
   "cell_type": "code",
   "execution_count": null,
   "metadata": {},
   "outputs": [],
   "source": [
    "// 1. Buatlah aplikasi dalam pemrograman Java untuk menyatukan data (combine) dari dua file\n",
    "// dengan format berbeda yang terlampir (attachment terkompres) dalam sebuah dataframe."
   ]
  },
  {
   "cell_type": "code",
   "execution_count": 2,
   "metadata": {},
   "outputs": [
    {
     "data": {
      "application/vnd.jupyter.widget-view+json": {
       "model_id": "",
       "version_major": 2,
       "version_minor": 0
      },
      "method": "display_data"
     },
     "metadata": {},
     "output_type": "display_data"
    },
    {
     "data": {
      "application/vnd.jupyter.widget-view+json": {
       "model_id": "de5f2da3- a3-4d4c-bbea-c30a06c4c4cd",
       "version_major": 2,
       "version_minor": 0
      },
      "method": "display_data"
     },
     "metadata": {},
     "output_type": "display_data"
    }
   ],
   "source": [
    "//Load Library\n",
    "%%classpath add mvn\n",
    "tech.tablesaw tablesaw-beakerx 0.35.0\n",
    "com.jimmoores quandl-tablesaw 2.0.0\n",
    "com.github.haifengl smile-core 1.5.2\n",
    "tech.tablesaw tablesaw-excel 0.35.0\n",
    "tech.tablesaw tablesaw-json 0.35.0\n",
    "org.xerial sqlite-jdbc 3.28.0\n",
    "org.jsoup jsoup 1.11.3"
   ]
  },
  {
   "cell_type": "code",
   "execution_count": 3,
   "metadata": {},
   "outputs": [
    {
     "data": {
      "text/plain": [
       "null"
      ]
     },
     "execution_count": 3,
     "metadata": {},
     "output_type": "execute_result"
    }
   ],
   "source": [
    "%import static tech.tablesaw.aggregate.AggregateFunctions.*\n",
    "%import tech.tablesaw.api.*\n",
    "%import tech.tablesaw.columns.*\n",
    "%import smile.clustering.*\n",
    "%import smile.regression.*\n",
    "\n",
    "// display Tablesaw tables with BeakerX table display widget\n",
    "tech.tablesaw.beakerx.TablesawDisplayer.register();"
   ]
  },
  {
   "cell_type": "code",
   "execution_count": 12,
   "metadata": {
    "scrolled": true
   },
   "outputs": [
    {
     "name": "stdout",
     "output_type": "stream",
     "text": [
      "                                                          12181631.xlsx                                                           \n",
      " _id   |  idx   |                   series                    |  kode_wilayah  |         wilayah         |  tahun  |    nilai    |\n",
      "----------------------------------------------------------------------------------------------------------------------------------\n",
      " 390 |  389  |  Luas Lahan yang Dibakar  |       7018  |      TOPOS/JURU KALANG  |   2008  |             |\n",
      " 391  | 390 |  Luas Lahan yang Dibakar (Ha)  |       7107 |         PARIGI MOUTONG  |   2008  |             |\n",
      " 392  |  391  |  Luas Lahan yang Dibakar (Ha)  |     7021  |          TOJO UNA UNA  |   2008  |             |\n",
      " 393  |  392  |  Luas Lahan yang Dibakar (Ha)  |     7030  |          KOTA PALU  |   2008  |             |\n",
      " 394  |  393  |  Luas Lahan yang Dibakar (Ha)  |     7031  |           KEPULAUAN SELAYAR   |   2008  |             |\n",
      " 395  |  394  |  Luas Lahan yang Dibakar (Ha)  |     7040  |           BULUKUMBA  |   2008  |  250000000  |\n",
      " 396  |  395  |  Luas Lahan yang Dibakar (Ha)  |     7041  |            BANTAENG  |   2008  |             |\n",
      " 397  |  396  |  Luas Lahan yang Dibakar (Ha)  |     7042  |  		JENEPONTO|   2008  |             |\n",
      " 398  |  397  |  Luas Lahan yang Dibakar (Ha)  |     7050  |           TAKALAR  |   2008  |             |\n",
      " 399  |  398  |  Luas Lahan yang Dibakar (Ha)  |     7051  |           GOWA  |   2008  |             |\n",
      "  ...  |   ...  |                                        ...  |           ...  |                    ...  |    ...  |        ...  |\n",
      " 400  |  399  |  Luas Lahan yang Dibakar (Ha)  |     6030  |         TERAS TERUNJAM  |   2008  |             |\n",
      " 401  |  400  |  Luas Lahan yang Dibakar (Ha)  |     6031  |                PENARIK  |   2008  |             |\n",
      " 402  |  401  |  Luas Lahan yang Dibakar (Ha)  |     6032  |           SELAGAN RAYA  |   2008  |             |\n",
      " 403  |  402  |  Luas Lahan yang Dibakar (Ha)  |     6040  |          KOTA MUKOMUKO  |   2008  |             |\n",
      " 404  |  403  |  Luas Lahan yang Dibakar (Ha)  |     6041  |              AIR DIKIT  |   2008  |             |\n",
      " 404  |  404  |  Luas Lahan yang Dibakar (Ha)  |     6042  |               BADAR 	|   2008  |             |\n",
      " 405  |  405  |  Luas Lahan yang Dibakar (Ha)  |     6050  |           DARUL HASANAH |   2008  |             |\n",
      " 406  |  406  |  Luas Lahan yang Dibakar (Ha)  |     6051  |           KETAMBE		|   2008  |             |\n",
      " 407  |  407  |  Luas Lahan yang Dibakar (Ha)  |     6052  |        DELENG POKHKISEN |   2008  |             |\n",
      " 408  |  408  |  Luas Lahan yang Dibakar (Ha)  |     7010  |        SERBA JADI  |   2008  |  150000000  |\n",
      "                                                                             12181631.xlsx summary                                                                             \n",
      " Count [nilai]  |  Sum [nilai]  |  Max [nilai]  |  Min [nilai]  |    Mean [nilai]     |  Range [nilai]  |  Median [nilai]  |   Variance [nilai]    |  Std. Deviation [nilai]  |\n",
      "-------------------------------------------------------------------------------------------------------------------------------------------------------------------------------\n",
      "           161 |  45079000000  |  70200000000  |      12700000  |  5062155 .2413792  |    10319000000  |        6500000  |  1256347735757121020  |      1198059988.3800147  |\n"
     ]
    },
    {
     "data": {
      "text/plain": [
       "null"
      ]
     },
     "execution_count": 12,
     "metadata": {},
     "output_type": "execute_result"
    }
   ],
   "source": [
    "import static tech.tablesaw.aggregate.AggregateFunctions.*;\n",
    "\n",
    "import tech.tablesaw.api.*;\n",
    "import tech.tablesaw.io.xlsx.*;\n",
    "\n",
    "tech.tablesaw.beakerx.TablesawDisplayer.register();\n",
    "\n",
    "XlsxReader reader = new XlsxReader();\n",
    "\n",
    "Table data2 = Table.read().csv(\"12181631/12181631.csv\");\n",
    "\n",
    "XlsxReadOptions file1 = XlsxReadOptions.builder(\"12181631/12181631.xlsx\").build();\n",
    "\n",
    "Table data1 = reader.read(file1);\n",
    "\n",
    "Table datagabung = data1.append(data2);\n",
    "\n",
    "System.out.println(datagabung.print()); \n",
    "\n",
    "System.out.println(datagabung.summarize(\"nilai\", count, sum, max, min, mean, range, median, variance, standardDeviation).apply());"
   ]
  },
  {
   "cell_type": "code",
   "execution_count": null,
   "metadata": {},
   "outputs": [],
   "source": [
    "\n",
    "1. ada 161 data\n",
    "2. total nilai 45079000000\n",
    "3. max nilai 70200000000\n",
    "4. min nilai 12700000\n",
    "5. rata-rata mean 5062155 .2413792\n",
    "6. Nilai tengah dari nilai yaitu  6500000\n",
    "7. Nilai variasi yaitu  1256347735757121020\n",
    "8. Nilai dari standar deviasi yaitu 1198059988.3800 "
   ]
  },
  {
   "cell_type": "code",
   "execution_count": null,
   "metadata": {},
   "outputs": [],
   "source": [
    "\n",
    "import static tech.tablesaw.aggregate.AggregateFunctions.*;\n",
    "\n",
    "import tech.tablesaw.api.*;\n",
    "import tech.tablesaw.io.xlsx.*;\n",
    "\n",
    "tech.tablesaw.beakerx.TablesawDisplayer.register();\n",
    "\n",
    "XlsxReader reader = new XlsxReader();\n",
    "\n",
    "Table data2 = Table.read().csv(\"12181642/12181642.csv\");\n",
    "\n",
    "XlsxReadOptions file1 = XlsxReadOptions.builder(\"12181642/12181642.json\").build();\n",
    "\n",
    "Table data1 = reader.read(file1);\n",
    "\n",
    "Table datagabung = data2.append(data1);"
   ]
  }
 ],
 "metadata": {
  "kernelspec": {
   "display_name": "Java",
   "language": "java",
   "name": "java"
  },
  "language_info": {
   "codemirror_mode": "text/x-java",
   "file_extension": ".java",
   "mimetype": "",
   "name": "Java",
   "nbconverter_exporter": "",
   "version": "1.8.0_121"
  },
  "toc": {
   "base_numbering": 1,
   "nav_menu": {},
   "number_sections": false,
   "sideBar": false,
   "skip_h1_title": false,
   "title_cell": "Table of Contents",
   "title_sidebar": "Contents",
   "toc_cell": false,
   "toc_position": {},
   "toc_section_display": false,
   "toc_window_display": false
  }
 },
 "nbformat": 4,
 "nbformat_minor": 2
}
